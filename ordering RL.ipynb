{
 "cells": [
  {
   "cell_type": "markdown",
   "metadata": {},
   "source": [
    "# Current problems\n",
    "\n",
    "- regrets are not accumulated in a sane way\n",
    "    - depending on first iteration get trapped"
   ]
  },
  {
   "cell_type": "code",
   "execution_count": 385,
   "metadata": {},
   "outputs": [
    {
     "name": "stderr",
     "output_type": "stream",
     "text": [
      "\u001b[1m\u001b[33mWARNING: \u001b[39m\u001b[22m\u001b[33mreplacing docs for 'normalize :: Tuple{Any}' in module 'Main'.\u001b[39m\n",
      "\u001b[1m\u001b[33mWARNING: \u001b[39m\u001b[22m\u001b[33mreplacing docs for 'score :: Tuple{Any,Any}' in module 'Main'.\u001b[39m\n",
      "\u001b[1m\u001b[33mWARNING: \u001b[39m\u001b[22m\u001b[33mreplacing docs for 'WeightedDraw :: Tuple{Any,Any}' in module 'Main'.\u001b[39m\n",
      "\u001b[1m\u001b[33mWARNING: \u001b[39m\u001b[22m\u001b[33mreplacing docs for 'get_ordering :: Tuple{Any}' in module 'Main'.\u001b[39m\n",
      "\u001b[1m\u001b[33mWARNING: \u001b[39m\u001b[22m\u001b[33mreplacing docs for 'new_score_and_ordering :: Tuple{Any,Any,Any}' in module 'Main'.\u001b[39m\n",
      "\u001b[1m\u001b[33mWARNING: \u001b[39m\u001b[22m\u001b[33mreplacing docs for 'training_iteration :: NTuple{5,Any}' in module 'Main'.\u001b[39m\n"
     ]
    },
    {
     "data": {
      "text/plain": [
       "training_iteration"
      ]
     },
     "execution_count": 385,
     "metadata": {},
     "output_type": "execute_result"
    }
   ],
   "source": [
    "#Pkg.add(\"StatsBase\")\n",
    "using StatsBase\n",
    "\n",
    "n = 7\n",
    "best_score = 0\n",
    "current_weights = zeros(n)\n",
    "true_weights = zeros(n)\n",
    "regrets = zeros(n)\n",
    "discount = 0.5\n",
    "\n",
    "# Initialize weights\n",
    "for i in 1:n\n",
    "    true_weights[i] = rand(1:n)\n",
    "    current_weights[i] = 1/n\n",
    "end\n",
    "\n",
    "\n",
    "\"\"\"\n",
    "Normalize a vector to values in [0,1] that sum to 1\n",
    "\"\"\"\n",
    "function normalize(ordered_set)\n",
    "    size = length(ordered_set)\n",
    "    total = sum(normal)\n",
    "    result = zeros(size)\n",
    "    for i in 1:size\n",
    "        result[i] = normal[i] / total\n",
    "    end\n",
    "    \n",
    "    return result\n",
    "end\n",
    "\n",
    "\n",
    "\"\"\"\n",
    "Evaluates objective function based on position and object's 'true weight'\n",
    "\"\"\"\n",
    "function score(ordered_set, discount)\n",
    "    result = 0\n",
    "    for i in 1:length(ordered_set)\n",
    "        result += discount^i * ordered_set[i]\n",
    "    end\n",
    "    return result\n",
    "end\n",
    "\n",
    "\n",
    "\"\"\"\n",
    "Draws an index based on a vector of weights\n",
    "\"\"\"\n",
    "function WeightedDraw(available_indeces, weight_vec)\n",
    "    return findin(available_indeces,\n",
    "            StatsBase.sample(\n",
    "              available_indeces, \n",
    "              StatsBase.Weights(weight_vec)\n",
    "            ))[1]\n",
    "end\n",
    "\n",
    "\n",
    "\"\"\"\n",
    "returns a random ordering of indeces of objects from a vector of weights\n",
    "\"\"\"\n",
    "function get_ordering(strat)\n",
    "    size = length(strat)\n",
    "    available_indeces = Array(1:n)\n",
    "    ordering = Array{Int32, 1}()\n",
    "    temp_strat = copy(strat)\n",
    "    \n",
    "    for i in 1:size\n",
    "        draw = WeightedDraw(available_indeces, temp_strat)\n",
    "        push!(ordering, available_indeces[draw])\n",
    "        deleteat!(temp_strat, draw)\n",
    "        deleteat!(available_indeces, draw)\n",
    "    end\n",
    "    return ordering\n",
    "end\n",
    "\n",
    "\n",
    "\"\"\"\n",
    "randomly draws new score and ordering based on vector of weights\n",
    "\"\"\"\n",
    "function new_score_and_ordering(strat, true_w, discount)    \n",
    "    size = length(strat)\n",
    "    new_order = get_ordering(strat)\n",
    "    new_weights = zeros(size)\n",
    "    for i in 1:size\n",
    "        new_weights[i] = true_w[new_order[i]]\n",
    "    end\n",
    "    \n",
    "    print(\"\\nNew Weights: \", new_weights, \"\\n\")\n",
    "    \n",
    "    return score(new_weights, discount), new_order\n",
    "end\n",
    "\n",
    "\n",
    "\"\"\"\n",
    "randomly draws from current weights then gets the score\n",
    "then updates regrets and current training weights\n",
    "\"\"\"\n",
    "function training_iteration(best_score, current_weights,\n",
    "                            true_weights, regrets, discount)\n",
    "    size = length(regrets)\n",
    "    this_score, this_order = \n",
    "        new_score_and_ordering(current_weights, \n",
    "                               true_weights, \n",
    "                               discount)\n",
    "    \n",
    "    print(\"Score \", this_score, \"\\n\")\n",
    "    print(\"Order \", this_order, \"\\n\")\n",
    "    print(\"Regret \", this_score - best_score, \"\\n\")\n",
    "    \n",
    "    this_regret = this_score - best_score\n",
    "    if this_score > best_score\n",
    "        best_score = this_score\n",
    "    end\n",
    "    \n",
    "    for i in 1:size\n",
    "        regrets[i] += discount^this_order[i] * this_regret\n",
    "        if regrets[i] < 0\n",
    "            regrets[i] = 0\n",
    "        end\n",
    "    end\n",
    "    \n",
    "    current_weights = normalize(regrets)\n",
    "    print(\"----Regrets-----\\n\", regrets, \"\\n\")\n",
    "    print(\"----Weights-----\\n\", current_weights, \"\\n\")\n",
    "    \n",
    "    return current_weights, regrets, best_score\n",
    "end"
   ]
  },
  {
   "cell_type": "code",
   "execution_count": 386,
   "metadata": {},
   "outputs": [
    {
     "name": "stdout",
     "output_type": "stream",
     "text": [
      "\n",
      "New Weights: [2.0, 5.0, 6.0, 6.0, 3.0, 3.0, 6.0]\n",
      "Score 3.5625\n",
      "Order Int32[7, 1, 5, 3, 6, 2, 4]\n",
      "Regret -1.0625\n",
      "----Regrets-----\n",
      "[0.0, 0.0, 0.0, 0.0, 0.0, 0.0, 0.0]\n",
      "----Weights-----\n",
      "[0.195905, 0.0, 0.180634, 0.111764, 0.151664, 0.14807, 0.211962]\n",
      "\n",
      "New Weights: [6.0, 2.0, 6.0, 5.0, 3.0, 6.0, 3.0]\n",
      "Score 4.7734375\n",
      "Order Int32[3, 7, 4, 1, 6, 5, 2]\n",
      "Regret 0.1484375\n",
      "----Regrets-----\n",
      "[0.0185547, 0.00115967, 0.00927734, 0.0742188, 0.00231934, 0.00463867, 0.0371094]\n",
      "----Weights-----\n",
      "[0.195905, 0.0, 0.180634, 0.111764, 0.151664, 0.14807, 0.211962]\n",
      "\n",
      "New Weights: [6.0, 3.0, 2.0, 6.0, 5.0, 6.0, 3.0]\n",
      "Score 4.6484375\n",
      "Order Int32[3, 6, 7, 5, 1, 4, 2]\n",
      "Regret -0.125\n",
      "----Regrets-----\n",
      "[0.00292969, 0.0, 0.00830078, 0.0703125, 0.0, 0.0, 0.00585938]\n",
      "----Weights-----\n",
      "[0.195905, 0.0, 0.180634, 0.111764, 0.151664, 0.14807, 0.211962]\n"
     ]
    }
   ],
   "source": [
    "best_score = score(true_weights, discount)\n",
    "\n",
    "for i in 1:3\n",
    "    current_weights, regrets, best_score = \n",
    "        training_iteration(\n",
    "            best_score, current_weights,\n",
    "            true_weights, regrets, discount)\n",
    "end"
   ]
  },
  {
   "cell_type": "code",
   "execution_count": 382,
   "metadata": {},
   "outputs": [
    {
     "data": {
      "text/plain": [
       "7-element Array{Float64,1}:\n",
       " 4.0\n",
       " 3.0\n",
       " 4.0\n",
       " 1.0\n",
       " 1.0\n",
       " 3.0\n",
       " 4.0"
      ]
     },
     "execution_count": 382,
     "metadata": {},
     "output_type": "execute_result"
    }
   ],
   "source": [
    "true_weights"
   ]
  },
  {
   "cell_type": "code",
   "execution_count": 319,
   "metadata": {},
   "outputs": [
    {
     "data": {
      "text/plain": [
       "4.3046875"
      ]
     },
     "execution_count": 319,
     "metadata": {},
     "output_type": "execute_result"
    }
   ],
   "source": [
    "best_score"
   ]
  },
  {
   "cell_type": "code",
   "execution_count": 358,
   "metadata": {},
   "outputs": [
    {
     "name": "stdout",
     "output_type": "stream",
     "text": [
      "[0.195905, 0.0, 0.180634, 0.111764, 0.151664, 0.14807, 0.211962]\n",
      "0.9999999999999999"
     ]
    }
   ],
   "source": [
    "ordered_set = [-0.032959, -0.671875, -0.0827637, -0.307373, -0.177246, -0.188965, 0.0194092]\n",
    "\n",
    "this_min = minimum(ordered_set)\n",
    "this_max = maximum(ordered_set)\n",
    "size = length(ordered_set)\n",
    "\n",
    "normal = zeros(size)\n",
    "for i in 1:size\n",
    "    normal[i] = (ordered_set[i] - this_min) / (this_max - this_min)\n",
    "end\n",
    "\n",
    "total = sum(normal)\n",
    "\n",
    "result = zeros(size)\n",
    "for i in 1:size\n",
    "    result[i] = normal[i] / total\n",
    "end\n",
    "\n",
    "print(result)\n",
    "print(\"\\n\", sum(result))"
   ]
  },
  {
   "cell_type": "code",
   "execution_count": 355,
   "metadata": {},
   "outputs": [
    {
     "data": {
      "text/plain": [
       "-0.671875"
      ]
     },
     "execution_count": 355,
     "metadata": {},
     "output_type": "execute_result"
    }
   ],
   "source": [
    "minimum(ordered_set)"
   ]
  },
  {
   "cell_type": "code",
   "execution_count": null,
   "metadata": {
    "collapsed": true
   },
   "outputs": [],
   "source": []
  }
 ],
 "metadata": {
  "kernelspec": {
   "display_name": "Julia 0.6.0",
   "language": "julia",
   "name": "julia-0.6"
  },
  "language_info": {
   "file_extension": ".jl",
   "mimetype": "application/julia",
   "name": "julia",
   "version": "0.6.0"
  }
 },
 "nbformat": 4,
 "nbformat_minor": 2
}
